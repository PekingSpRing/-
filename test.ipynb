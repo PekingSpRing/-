{
 "cells": [
  {
   "cell_type": "code",
   "execution_count": 1,
   "metadata": {},
   "outputs": [],
   "source": [
    "import tkinter as tk\n",
    "from mysystem.Gui_panel import Gui_panel\n",
    "\n",
    "def main():\n",
    "    root = tk.Tk()\n",
    "    gui = Gui_panel(root)\n",
    "    root.mainloop()"
   ]
  },
  {
   "cell_type": "code",
   "execution_count": 2,
   "metadata": {},
   "outputs": [
    {
     "name": "stderr",
     "output_type": "stream",
     "text": [
      "Exception in thread Thread-5:\n",
      "Traceback (most recent call last):\n",
      "  File \"d:\\Anaconda\\envs\\imagepro\\lib\\threading.py\", line 932, in _bootstrap_inner\n",
      "    self.run()\n",
      "  File \"d:\\Anaconda\\envs\\imagepro\\lib\\threading.py\", line 870, in run\n",
      "    self._target(*self._args, **self._kwargs)\n",
      "  File \"d:\\OneDrive - 北京大学\\桌面\\研一上\\当代量化交易系统原理与实现\\大作业\\Quantitative-backtesting\\mysystem\\Gui_panel.py\", line 284, in thread_target\n",
      "    self.run_reverse()\n",
      "  File \"d:\\OneDrive - 北京大学\\桌面\\研一上\\当代量化交易系统原理与实现\\大作业\\Quantitative-backtesting\\mysystem\\Gui_panel.py\", line 362, in run_reverse\n",
      "    my_strategy.run_Strategy(self.start_time,self.end_time)\n",
      "  File \"d:\\OneDrive - 北京大学\\桌面\\研一上\\当代量化交易系统原理与实现\\大作业\\Quantitative-backtesting\\mysystem\\strategy.py\", line 37, in run_Strategy\n",
      "    self.get_signal(signal_choices,signal_path)\n",
      "  File \"d:\\OneDrive - 北京大学\\桌面\\研一上\\当代量化交易系统原理与实现\\大作业\\Quantitative-backtesting\\mysystem\\strategy.py\", line 59, in get_signal\n",
      "    start_date = datetime.strptime(self.start_time, '%Y-%m-%d')\n",
      "TypeError: strptime() argument 1 must be str, not datetime.date\n"
     ]
    }
   ],
   "source": [
    "main()"
   ]
  }
 ],
 "metadata": {
  "kernelspec": {
   "display_name": "imagepro",
   "language": "python",
   "name": "python3"
  },
  "language_info": {
   "codemirror_mode": {
    "name": "ipython",
    "version": 3
   },
   "file_extension": ".py",
   "mimetype": "text/x-python",
   "name": "python",
   "nbconvert_exporter": "python",
   "pygments_lexer": "ipython3",
   "version": "3.8.11"
  }
 },
 "nbformat": 4,
 "nbformat_minor": 2
}
